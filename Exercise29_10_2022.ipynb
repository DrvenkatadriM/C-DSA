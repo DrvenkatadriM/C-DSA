{
  "nbformat": 4,
  "nbformat_minor": 0,
  "metadata": {
    "colab": {
      "provenance": [],
      "collapsed_sections": [],
      "authorship_tag": "ABX9TyM2ANdg/trkYkE3NA+Qf2Wd",
      "include_colab_link": true
    },
    "kernelspec": {
      "name": "python3",
      "display_name": "Python 3"
    },
    "language_info": {
      "name": "python"
    }
  },
  "cells": [
    {
      "cell_type": "markdown",
      "metadata": {
        "id": "view-in-github",
        "colab_type": "text"
      },
      "source": [
        "<a href=\"https://colab.research.google.com/github/DrvenkatadriM/C-DSA/blob/main/Exercise29_10_2022.ipynb\" target=\"_parent\"><img src=\"https://colab.research.google.com/assets/colab-badge.svg\" alt=\"Open In Colab\"/></a>"
      ]
    },
    {
      "cell_type": "code",
      "execution_count": null,
      "metadata": {
        "colab": {
          "base_uri": "https://localhost:8080/"
        },
        "id": "YZAWdVGkc-RU",
        "outputId": "a70f4ed0-71aa-4def-ba56-bd811adedf2b"
      },
      "outputs": [
        {
          "output_type": "execute_result",
          "data": {
            "text/plain": [
              "29"
            ]
          },
          "metadata": {},
          "execution_count": 18
        }
      ],
      "source": [
        "## Exercise Write a prgoram to find the length of the given string without using library functions \n",
        "\n",
        "def Ex1(s1):\n",
        "  c=0\n",
        "  for i in s1:\n",
        "    c=c+1\n",
        "  return c\n",
        "string = \" Hi this is my first program \"\n",
        "Test(string)"
      ]
    },
    {
      "cell_type": "code",
      "source": [
        "## Displaying of the Indexes of the strings "
      ],
      "metadata": {
        "id": "NU8tfJ-odtRx"
      },
      "execution_count": null,
      "outputs": []
    },
    {
      "cell_type": "code",
      "source": [
        "string = \"Hi this is my first program\"\n",
        "def Ex2(s1):\n",
        "  c=0\n",
        "  for i in s1:\n",
        "   print(f' The index {c}  and its actual value is {i}')\n",
        "   c=c+1\n",
        "Ex2(string)"
      ],
      "metadata": {
        "id": "C6HumgMMd06W"
      },
      "execution_count": null,
      "outputs": []
    },
    {
      "cell_type": "code",
      "source": [
        "## Displaying of the IP address of our system"
      ],
      "metadata": {
        "id": "UsxtUXHafcAs"
      },
      "execution_count": null,
      "outputs": []
    },
    {
      "cell_type": "code",
      "source": [
        "## importing socket module\n",
        "import socket\n",
        "## getting the hostname by socket.gethostname() method\n",
        "hostname = socket.gethostname()\n",
        "## getting the IP address using socket.gethostbyname() method\n",
        "ip_address = socket.gethostbyname(hostname)\n",
        "## printing the hostname and ip_address\n",
        "print(f\"Hostname: {hostname}\")\n",
        "print(f\"IP Address: {ip_address}\")\n"
      ],
      "metadata": {
        "colab": {
          "base_uri": "https://localhost:8080/"
        },
        "id": "Ecy-6dANhy4L",
        "outputId": "d1a4274e-999e-4712-9e95-5c337b024f94"
      },
      "execution_count": null,
      "outputs": [
        {
          "output_type": "stream",
          "name": "stdout",
          "text": [
            "Hostname: aa9bc10adc3d\n",
            "IP Address: 172.28.0.2\n"
          ]
        }
      ]
    },
    {
      "cell_type": "code",
      "source": [
        "\n",
        "def Ex3(d):\n",
        "  m=1\n",
        "  for i in d:\n",
        "    if(type(i)==int) or (type(i)==float):\n",
        "     m=m*i\n",
        "  return(m)\n",
        "data=[9,2,2,3,9.7,\"hi\",\" lalitha\"]\n",
        "Ex3(data)"
      ],
      "metadata": {
        "colab": {
          "base_uri": "https://localhost:8080/"
        },
        "id": "Z9W_S4Cak6Ly",
        "outputId": "c9c5b524-da78-4cd4-a51e-98fa99fc6032"
      },
      "execution_count": null,
      "outputs": [
        {
          "output_type": "execute_result",
          "data": {
            "text/plain": [
              "1047.6"
            ]
          },
          "metadata": {},
          "execution_count": 53
        }
      ]
    }
  ]
}